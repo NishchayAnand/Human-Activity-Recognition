{
 "cells": [
  {
   "cell_type": "code",
   "execution_count": 2,
   "metadata": {},
   "outputs": [],
   "source": [
    "import pandas as pd\n",
    "import numpy as np\n",
    "from sklearn.model_selection import train_test_split\n",
    "import matplotlib.pyplot as plt\n",
    "import scipy.stats as stats\n",
    "import tensorflow as tf\n",
    "from tensorflow.keras import Sequential\n",
    "from tensorflow.keras.layers import Flatten, Dense, Dropout, BatchNormalization\n",
    "from tensorflow.keras.layers import Conv2D, MaxPool2D\n",
    "from tensorflow.keras.optimizers import Adam"
   ]
  },
  {
   "cell_type": "code",
   "execution_count": 3,
   "metadata": {},
   "outputs": [],
   "source": [
    "# Data Preparation"
   ]
  },
  {
   "cell_type": "code",
   "execution_count": 4,
   "metadata": {},
   "outputs": [],
   "source": [
    "Fs = 52\n",
    "# we are going to divide the data into windows of 2.5 secs\n",
    "time_steps = int(Fs*(2.5)) # 130\n",
    "overlap_size = int((Fs*(2.5))/2) # 65"
   ]
  },
  {
   "cell_type": "code",
   "execution_count": 5,
   "metadata": {},
   "outputs": [],
   "source": [
    "def prepare_windows(df, time_steps, overlap_size):\n",
    "\n",
    "    N_FEATURES = 3\n",
    "\n",
    "    windows = []\n",
    "    labels = []\n",
    "    for i in range(0, len(df) - time_steps, overlap_size):\n",
    "        x = df['x'].values[i: i + time_steps]\n",
    "        y = df['y'].values[i: i + time_steps]\n",
    "        z = df['z'].values[i: i + time_steps]\n",
    "        \n",
    "        # Retrieve the most often used label in this segment\n",
    "        label = stats.mode(df['label'][i: i + time_steps])[0][0]\n",
    "        windows.append([x, y, z])\n",
    "        labels.append(label)\n",
    "\n",
    "    # Bring the segments into a better shape\n",
    "    windows = np.asarray(windows).reshape(-1, time_steps, N_FEATURES)\n",
    "    labels = np.asarray(labels)\n",
    "\n",
    "    return windows, labels"
   ]
  },
  {
   "cell_type": "code",
   "execution_count": 6,
   "metadata": {},
   "outputs": [
    {
     "data": {
      "text/html": [
       "<div>\n",
       "<style scoped>\n",
       "    .dataframe tbody tr th:only-of-type {\n",
       "        vertical-align: middle;\n",
       "    }\n",
       "\n",
       "    .dataframe tbody tr th {\n",
       "        vertical-align: top;\n",
       "    }\n",
       "\n",
       "    .dataframe thead th {\n",
       "        text-align: right;\n",
       "    }\n",
       "</style>\n",
       "<table border=\"1\" class=\"dataframe\">\n",
       "  <thead>\n",
       "    <tr style=\"text-align: right;\">\n",
       "      <th></th>\n",
       "      <th>x</th>\n",
       "      <th>y</th>\n",
       "      <th>z</th>\n",
       "      <th>label</th>\n",
       "    </tr>\n",
       "  </thead>\n",
       "  <tbody>\n",
       "    <tr>\n",
       "      <th>0</th>\n",
       "      <td>-4.370355</td>\n",
       "      <td>-1.913248</td>\n",
       "      <td>1.743836</td>\n",
       "      <td>0</td>\n",
       "    </tr>\n",
       "    <tr>\n",
       "      <th>1</th>\n",
       "      <td>-2.881319</td>\n",
       "      <td>-3.688340</td>\n",
       "      <td>0.599326</td>\n",
       "      <td>0</td>\n",
       "    </tr>\n",
       "    <tr>\n",
       "      <th>2</th>\n",
       "      <td>-3.386688</td>\n",
       "      <td>-5.115862</td>\n",
       "      <td>-0.923089</td>\n",
       "      <td>0</td>\n",
       "    </tr>\n",
       "    <tr>\n",
       "      <th>3</th>\n",
       "      <td>-3.476933</td>\n",
       "      <td>-5.339300</td>\n",
       "      <td>-1.732884</td>\n",
       "      <td>0</td>\n",
       "    </tr>\n",
       "    <tr>\n",
       "      <th>4</th>\n",
       "      <td>-3.097906</td>\n",
       "      <td>-5.016556</td>\n",
       "      <td>-1.214615</td>\n",
       "      <td>0</td>\n",
       "    </tr>\n",
       "  </tbody>\n",
       "</table>\n",
       "</div>"
      ],
      "text/plain": [
       "          x         y         z  label\n",
       "0 -4.370355 -1.913248  1.743836      0\n",
       "1 -2.881319 -3.688340  0.599326      0\n",
       "2 -3.386688 -5.115862 -0.923089      0\n",
       "3 -3.476933 -5.339300 -1.732884      0\n",
       "4 -3.097906 -5.016556 -1.214615      0"
      ]
     },
     "execution_count": 6,
     "metadata": {},
     "output_type": "execute_result"
    }
   ],
   "source": [
    "csv_location = \"Processed CSV 3/CSV_processed.csv\"\n",
    "df = pd.read_csv(csv_location, index_col=[0])\n",
    "df.head()"
   ]
  },
  {
   "cell_type": "code",
   "execution_count": 9,
   "metadata": {},
   "outputs": [
    {
     "data": {
      "text/plain": [
       "(332451, 4)"
      ]
     },
     "execution_count": 9,
     "metadata": {},
     "output_type": "execute_result"
    }
   ],
   "source": [
    "df.shape"
   ]
  },
  {
   "cell_type": "code",
   "execution_count": 7,
   "metadata": {},
   "outputs": [],
   "source": [
    "X, Y = prepare_windows(df, time_steps, overlap_size)"
   ]
  },
  {
   "cell_type": "code",
   "execution_count": 8,
   "metadata": {},
   "outputs": [
    {
     "data": {
      "text/plain": [
       "((5113, 130, 3), (5113,))"
      ]
     },
     "execution_count": 8,
     "metadata": {},
     "output_type": "execute_result"
    }
   ],
   "source": [
    "X.shape, Y.shape"
   ]
  },
  {
   "cell_type": "code",
   "execution_count": 10,
   "metadata": {},
   "outputs": [],
   "source": [
    "# Splitting dataset into training and testing data"
   ]
  },
  {
   "cell_type": "code",
   "execution_count": 11,
   "metadata": {},
   "outputs": [],
   "source": [
    "X_train, X_test, Y_train, Y_test = train_test_split(X, Y, test_size = 0.3, random_state = 0, stratify = Y)"
   ]
  },
  {
   "cell_type": "code",
   "execution_count": 12,
   "metadata": {},
   "outputs": [
    {
     "data": {
      "text/plain": [
       "((3579, 130, 3), (1534, 130, 3))"
      ]
     },
     "execution_count": 12,
     "metadata": {},
     "output_type": "execute_result"
    }
   ],
   "source": [
    "X_train.shape, X_test.shape"
   ]
  },
  {
   "cell_type": "code",
   "execution_count": 13,
   "metadata": {},
   "outputs": [
    {
     "data": {
      "text/plain": [
       "((130, 3), (130, 3))"
      ]
     },
     "execution_count": 13,
     "metadata": {},
     "output_type": "execute_result"
    }
   ],
   "source": [
    "X_train[0].shape, X_test[0].shape"
   ]
  },
  {
   "cell_type": "code",
   "execution_count": 14,
   "metadata": {},
   "outputs": [],
   "source": [
    "X_train = X_train.reshape(3579, 130, 3, 1)\n",
    "X_test = X_test.reshape(1534, 130, 3, 1)"
   ]
  },
  {
   "cell_type": "code",
   "execution_count": 15,
   "metadata": {},
   "outputs": [
    {
     "data": {
      "text/plain": [
       "((3579, 130, 3, 1), (1534, 130, 3, 1))"
      ]
     },
     "execution_count": 15,
     "metadata": {},
     "output_type": "execute_result"
    }
   ],
   "source": [
    "X_train.shape, X_test.shape"
   ]
  },
  {
   "cell_type": "code",
   "execution_count": 16,
   "metadata": {},
   "outputs": [],
   "source": [
    "# Model preparation using tensorflow keras library"
   ]
  },
  {
   "cell_type": "code",
   "execution_count": 18,
   "metadata": {},
   "outputs": [],
   "source": [
    "model = Sequential()\n",
    "model.add(Conv2D(16, (2, 2), activation = 'relu', input_shape = X_train[0].shape))\n",
    "model.add(Dropout(0.1))\n",
    "\n",
    "model.add(Conv2D(32, (2, 2), activation='relu'))\n",
    "model.add(Dropout(0.2))\n",
    "\n",
    "model.add(Flatten())\n",
    "\n",
    "model.add(Dense(64, activation = 'relu'))\n",
    "model.add(Dropout(0.5))\n",
    "\n",
    "model.add(Dense(7, activation='softmax'))"
   ]
  },
  {
   "cell_type": "code",
   "execution_count": 19,
   "metadata": {},
   "outputs": [
    {
     "name": "stdout",
     "output_type": "stream",
     "text": [
      "Train on 3579 samples, validate on 1534 samples\n",
      "Epoch 1/50\n",
      "3579/3579 [==============================] - 2s 536us/sample - loss: 1.3864 - acc: 0.4985 - val_loss: 1.1469 - val_acc: 0.6245\n",
      "Epoch 2/50\n",
      "3579/3579 [==============================] - 2s 460us/sample - loss: 1.1379 - acc: 0.5842 - val_loss: 0.9736 - val_acc: 0.6838\n",
      "Epoch 3/50\n",
      "3579/3579 [==============================] - 2s 464us/sample - loss: 0.9985 - acc: 0.6432 - val_loss: 0.9121 - val_acc: 0.6923\n",
      "Epoch 4/50\n",
      "3579/3579 [==============================] - 2s 467us/sample - loss: 0.9274 - acc: 0.6695 - val_loss: 0.8519 - val_acc: 0.7288\n",
      "Epoch 5/50\n",
      "3579/3579 [==============================] - 2s 473us/sample - loss: 0.8507 - acc: 0.6901 - val_loss: 0.7845 - val_acc: 0.7288\n",
      "Epoch 6/50\n",
      "3579/3579 [==============================] - 2s 488us/sample - loss: 0.7956 - acc: 0.7125 - val_loss: 0.7831 - val_acc: 0.7295\n",
      "Epoch 7/50\n",
      "3579/3579 [==============================] - 2s 511us/sample - loss: 0.7821 - acc: 0.7117 - val_loss: 0.7536 - val_acc: 0.7399\n",
      "Epoch 8/50\n",
      "3579/3579 [==============================] - 2s 497us/sample - loss: 0.7300 - acc: 0.7251 - val_loss: 0.7234 - val_acc: 0.7477\n",
      "Epoch 9/50\n",
      "3579/3579 [==============================] - 2s 566us/sample - loss: 0.7062 - acc: 0.7323 - val_loss: 0.6890 - val_acc: 0.7608\n",
      "Epoch 10/50\n",
      "3579/3579 [==============================] - 2s 477us/sample - loss: 0.6854 - acc: 0.7438 - val_loss: 0.7322 - val_acc: 0.7516\n",
      "Epoch 11/50\n",
      "3579/3579 [==============================] - 2s 476us/sample - loss: 0.6690 - acc: 0.7510 - val_loss: 0.6953 - val_acc: 0.7581\n",
      "Epoch 12/50\n",
      "3579/3579 [==============================] - 2s 465us/sample - loss: 0.6353 - acc: 0.7656 - val_loss: 0.6733 - val_acc: 0.7614\n",
      "Epoch 13/50\n",
      "3579/3579 [==============================] - 2s 476us/sample - loss: 0.6392 - acc: 0.7592 - val_loss: 0.6713 - val_acc: 0.7653\n",
      "Epoch 14/50\n",
      "3579/3579 [==============================] - 2s 470us/sample - loss: 0.6283 - acc: 0.7642 - val_loss: 0.7127 - val_acc: 0.7627\n",
      "Epoch 15/50\n",
      "3579/3579 [==============================] - 2s 460us/sample - loss: 0.6102 - acc: 0.7706 - val_loss: 0.7023 - val_acc: 0.7608\n",
      "Epoch 16/50\n",
      "3579/3579 [==============================] - 2s 467us/sample - loss: 0.5888 - acc: 0.7768 - val_loss: 0.7063 - val_acc: 0.7510\n",
      "Epoch 17/50\n",
      "3579/3579 [==============================] - 2s 480us/sample - loss: 0.5633 - acc: 0.7773 - val_loss: 0.7080 - val_acc: 0.7660\n",
      "Epoch 18/50\n",
      "3579/3579 [==============================] - 2s 462us/sample - loss: 0.5492 - acc: 0.7888 - val_loss: 0.7181 - val_acc: 0.7699\n",
      "Epoch 19/50\n",
      "3579/3579 [==============================] - 2s 450us/sample - loss: 0.5535 - acc: 0.7885 - val_loss: 0.6970 - val_acc: 0.7686\n",
      "Epoch 20/50\n",
      "3579/3579 [==============================] - 2s 498us/sample - loss: 0.5494 - acc: 0.7899 - val_loss: 0.7338 - val_acc: 0.7666\n",
      "Epoch 21/50\n",
      "3579/3579 [==============================] - 2s 457us/sample - loss: 0.5194 - acc: 0.7985 - val_loss: 0.8049 - val_acc: 0.7581\n",
      "Epoch 22/50\n",
      "3579/3579 [==============================] - 2s 451us/sample - loss: 0.5141 - acc: 0.8041 - val_loss: 0.7038 - val_acc: 0.7608\n",
      "Epoch 23/50\n",
      "3579/3579 [==============================] - 2s 447us/sample - loss: 0.5125 - acc: 0.8072 - val_loss: 0.7458 - val_acc: 0.7647\n",
      "Epoch 24/50\n",
      "3579/3579 [==============================] - 2s 470us/sample - loss: 0.5041 - acc: 0.8058 - val_loss: 0.7214 - val_acc: 0.7699\n",
      "Epoch 25/50\n",
      "3579/3579 [==============================] - 2s 452us/sample - loss: 0.4883 - acc: 0.8025 - val_loss: 0.7073 - val_acc: 0.7647\n",
      "Epoch 26/50\n",
      "3579/3579 [==============================] - 2s 434us/sample - loss: 0.4943 - acc: 0.8136 - val_loss: 0.6953 - val_acc: 0.7660\n",
      "Epoch 27/50\n",
      "3579/3579 [==============================] - 2s 467us/sample - loss: 0.4825 - acc: 0.8080 - val_loss: 0.7273 - val_acc: 0.7712\n",
      "Epoch 28/50\n",
      "3579/3579 [==============================] - 2s 462us/sample - loss: 0.4702 - acc: 0.8142 - val_loss: 0.7403 - val_acc: 0.7660\n",
      "Epoch 29/50\n",
      "3579/3579 [==============================] - 2s 461us/sample - loss: 0.4783 - acc: 0.8153 - val_loss: 0.7494 - val_acc: 0.7699\n",
      "Epoch 30/50\n",
      "3579/3579 [==============================] - 2s 441us/sample - loss: 0.4642 - acc: 0.8206 - val_loss: 0.7468 - val_acc: 0.7718\n",
      "Epoch 31/50\n",
      "3579/3579 [==============================] - 2s 443us/sample - loss: 0.4596 - acc: 0.8187 - val_loss: 0.7687 - val_acc: 0.7829\n",
      "Epoch 32/50\n",
      "3579/3579 [==============================] - 2s 468us/sample - loss: 0.4517 - acc: 0.8262 - val_loss: 0.8019 - val_acc: 0.7731\n",
      "Epoch 33/50\n",
      "3579/3579 [==============================] - 2s 453us/sample - loss: 0.4425 - acc: 0.8262 - val_loss: 0.8306 - val_acc: 0.7725\n",
      "Epoch 34/50\n",
      "3579/3579 [==============================] - 2s 455us/sample - loss: 0.4352 - acc: 0.8243 - val_loss: 0.7748 - val_acc: 0.7771\n",
      "Epoch 35/50\n",
      "3579/3579 [==============================] - 2s 462us/sample - loss: 0.4404 - acc: 0.8290 - val_loss: 0.7559 - val_acc: 0.7810\n",
      "Epoch 36/50\n",
      "3579/3579 [==============================] - 2s 459us/sample - loss: 0.4203 - acc: 0.8310 - val_loss: 0.7580 - val_acc: 0.7823\n",
      "Epoch 37/50\n",
      "3579/3579 [==============================] - 2s 502us/sample - loss: 0.4181 - acc: 0.8324 - val_loss: 0.7915 - val_acc: 0.7705\n",
      "Epoch 38/50\n",
      "3579/3579 [==============================] - 2s 486us/sample - loss: 0.4063 - acc: 0.8405 - val_loss: 0.8319 - val_acc: 0.7829\n",
      "Epoch 39/50\n",
      "3579/3579 [==============================] - 2s 486us/sample - loss: 0.3959 - acc: 0.8413 - val_loss: 0.8235 - val_acc: 0.7790\n",
      "Epoch 40/50\n",
      "3579/3579 [==============================] - 2s 483us/sample - loss: 0.4225 - acc: 0.8335 - val_loss: 0.8066 - val_acc: 0.7803\n",
      "Epoch 41/50\n",
      "3579/3579 [==============================] - 2s 482us/sample - loss: 0.4094 - acc: 0.8388 - val_loss: 0.8389 - val_acc: 0.7744\n",
      "Epoch 42/50\n",
      "3579/3579 [==============================] - 2s 466us/sample - loss: 0.4055 - acc: 0.8393 - val_loss: 0.8464 - val_acc: 0.7751\n",
      "Epoch 43/50\n",
      "3579/3579 [==============================] - 2s 474us/sample - loss: 0.4003 - acc: 0.8354 - val_loss: 0.8230 - val_acc: 0.7868\n",
      "Epoch 44/50\n",
      "3579/3579 [==============================] - 2s 472us/sample - loss: 0.3729 - acc: 0.8567 - val_loss: 0.8563 - val_acc: 0.7888\n",
      "Epoch 45/50\n",
      "3579/3579 [==============================] - 2s 480us/sample - loss: 0.4050 - acc: 0.8405 - val_loss: 0.8177 - val_acc: 0.7862\n",
      "Epoch 46/50\n",
      "3579/3579 [==============================] - 2s 476us/sample - loss: 0.3858 - acc: 0.8497 - val_loss: 0.7701 - val_acc: 0.7868\n",
      "Epoch 47/50\n",
      "3579/3579 [==============================] - 2s 486us/sample - loss: 0.3852 - acc: 0.8505 - val_loss: 0.8062 - val_acc: 0.7881\n",
      "Epoch 48/50\n",
      "3579/3579 [==============================] - 2s 465us/sample - loss: 0.3790 - acc: 0.8525 - val_loss: 0.7986 - val_acc: 0.7875\n",
      "Epoch 49/50\n",
      "3579/3579 [==============================] - 2s 513us/sample - loss: 0.3695 - acc: 0.8536 - val_loss: 0.9620 - val_acc: 0.7901\n",
      "Epoch 50/50\n",
      "3579/3579 [==============================] - 2s 484us/sample - loss: 0.3800 - acc: 0.8528 - val_loss: 0.8907 - val_acc: 0.7855\n"
     ]
    }
   ],
   "source": [
    "model.compile(optimizer=Adam(learning_rate = 0.001), loss = 'sparse_categorical_crossentropy', metrics = ['accuracy'])\n",
    "history = model.fit(X_train, Y_train, epochs = 50, validation_data= (X_test, Y_test), verbose=1)"
   ]
  },
  {
   "cell_type": "code",
   "execution_count": 20,
   "metadata": {},
   "outputs": [],
   "source": [
    "def plot_learningCurve(history, epochs):\n",
    "  # Plot training & validation accuracy values\n",
    "  epoch_range = range(1, epochs+1)\n",
    "  plt.plot(epoch_range, history.history['acc'])\n",
    "  plt.plot(epoch_range, history.history['val_acc'])\n",
    "  plt.title('Model accuracy')\n",
    "  plt.ylabel('Accuracy')\n",
    "  plt.xlabel('Epoch')\n",
    "  plt.legend(['Train', 'Val'], loc='upper left')\n",
    "  plt.show()\n",
    "\n",
    "  # Plot training & validation loss values\n",
    "  plt.plot(epoch_range, history.history['loss'])\n",
    "  plt.plot(epoch_range, history.history['val_loss'])\n",
    "  plt.title('Model loss')\n",
    "  plt.ylabel('Loss')\n",
    "  plt.xlabel('Epoch')\n",
    "  plt.legend(['Train', 'Val'], loc='upper left')\n",
    "  plt.show()"
   ]
  },
  {
   "cell_type": "code",
   "execution_count": 21,
   "metadata": {},
   "outputs": [
    {
     "data": {
      "image/png": "[encoded data removed]",
      "text/plain": [
       "<Figure size 432x288 with 1 Axes>"
      ]
     },
     "metadata": {
      "needs_background": "light"
     },
     "output_type": "display_data"
    },
    {
     "data": {
      "image/png": "[encoded data removed]",
      "text/plain": [
       "<Figure size 432x288 with 1 Axes>"
      ]
     },
     "metadata": {
      "needs_background": "light"
     },
     "output_type": "display_data"
    }
   ],
   "source": [
    "plot_learningCurve(history, 50)"
   ]
  },
  {
   "cell_type": "code",
   "execution_count": null,
   "metadata": {},
   "outputs": [],
   "source": [
    "# model.save_weights('model.h5')"
   ]
  }
 ],
 "metadata": {
  "kernelspec": {
   "display_name": "Python 3",
   "language": "python",
   "name": "python3"
  },
  "language_info": {
   "codemirror_mode": {
    "name": "ipython",
    "version": 3
   },
   "file_extension": ".py",
   "mimetype": "text/x-python",
   "name": "python",
   "nbconvert_exporter": "python",
   "pygments_lexer": "ipython3",
   "version": "3.7.3"
  }
 },
 "nbformat": 4,
 "nbformat_minor": 2
}
