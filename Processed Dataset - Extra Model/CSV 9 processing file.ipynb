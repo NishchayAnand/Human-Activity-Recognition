{
 "cells": [
  {
   "cell_type": "code",
   "execution_count": 2,
   "metadata": {},
   "outputs": [],
   "source": [
    "import pandas as pd\n",
    "from sklearn.preprocessing import StandardScaler"
   ]
  },
  {
   "cell_type": "code",
   "execution_count": 3,
   "metadata": {},
   "outputs": [],
   "source": [
    "df = pd.read_csv(\"../9.csv\", header= None)\n",
    "df.columns=['Time', 'X', 'Y', 'Z', 'Activity']\n",
    "df = df.drop(df[df.Activity.isin([0])].index)\n",
    "df = df.drop(['Time'], axis = 1).copy()"
   ]
  },
  {
   "cell_type": "code",
   "execution_count": 4,
   "metadata": {},
   "outputs": [
    {
     "data": {
      "text/plain": [
       "7    83660\n",
       "1    36090\n",
       "4    26730\n",
       "3    11330\n",
       "5     3115\n",
       "6     2495\n",
       "2      320\n",
       "Name: Activity, dtype: int64"
      ]
     },
     "execution_count": 4,
     "metadata": {},
     "output_type": "execute_result"
    }
   ],
   "source": [
    "df['Activity'].value_counts()"
   ]
  },
  {
   "cell_type": "code",
   "execution_count": 5,
   "metadata": {},
   "outputs": [
    {
     "data": {
      "text/plain": [
       "6    83660\n",
       "0    36090\n",
       "3    26730\n",
       "2    11330\n",
       "4     3115\n",
       "5     2495\n",
       "1      320\n",
       "Name: Activity, dtype: int64"
      ]
     },
     "execution_count": 5,
     "metadata": {},
     "output_type": "execute_result"
    }
   ],
   "source": [
    "df['Activity'] = df['Activity'].replace([1,2,3,4,5,6,7],[0,1,2,3,4,5,6])\n",
    "df['Activity'].value_counts()"
   ]
  },
  {
   "cell_type": "code",
   "execution_count": 6,
   "metadata": {},
   "outputs": [],
   "source": [
    "WorkingPC = df[df['Activity']==0].head(320).copy()\n",
    "StandingUp_Walking_Stairs = df[df['Activity']==1].head(320).copy()\n",
    "Standing = df[df['Activity']==2].head(320).copy()\n",
    "Walking = df[df['Activity']==3].head(320).copy()\n",
    "ClimbingStairs = df[df['Activity']==4].head(320).copy()\n",
    "Walking_Talking = df[df['Activity']==5].head(320).copy()\n",
    "Talking = df[df['Activity']==6].head(320).copy()\n",
    "\n",
    "balanced_data = pd.DataFrame()\n",
    "balanced_data = balanced_data.append([WorkingPC, StandingUp_Walking_Stairs, Standing, Walking, ClimbingStairs, Walking_Talking, Talking])"
   ]
  },
  {
   "cell_type": "code",
   "execution_count": 7,
   "metadata": {},
   "outputs": [],
   "source": [
    "input_data = balanced_data[['X', 'Y', 'Z']]\n",
    "label = balanced_data['Activity']\n",
    "\n",
    "scaler = StandardScaler()\n",
    "input_data = scaler.fit_transform(input_data)\n",
    "\n",
    "processed_data = pd.DataFrame(data = input_data, columns = ['x', 'y', 'z'])\n",
    "processed_data['label'] = label.values"
   ]
  },
  {
   "cell_type": "code",
   "execution_count": 8,
   "metadata": {},
   "outputs": [],
   "source": [
    "processed_data.to_csv('CSV9_processed2.csv')"
   ]
  }
 ],
 "metadata": {
  "kernelspec": {
   "display_name": "Python 3",
   "language": "python",
   "name": "python3"
  },
  "language_info": {
   "codemirror_mode": {
    "name": "ipython",
    "version": 3
   },
   "file_extension": ".py",
   "mimetype": "text/x-python",
   "name": "python",
   "nbconvert_exporter": "python",
   "pygments_lexer": "ipython3",
   "version": "3.7.3"
  }
 },
 "nbformat": 4,
 "nbformat_minor": 2
}
