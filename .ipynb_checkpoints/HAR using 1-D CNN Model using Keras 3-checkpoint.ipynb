{
 "cells": [
  {
   "cell_type": "code",
   "execution_count": 37,
   "metadata": {},
   "outputs": [],
   "source": [
    "import pandas as pd\n",
    "import numpy as np\n",
    "from sklearn.model_selection import train_test_split\n",
    "import matplotlib.pyplot as plt\n",
    "import scipy.stats as stats\n",
    "import tensorflow as tf\n",
    "from tensorflow.keras import Sequential\n",
    "from tensorflow.keras.layers import Flatten, Dense, Dropout, BatchNormalization\n",
    "from tensorflow.keras.layers import Conv2D, MaxPool2D\n",
    "from tensorflow.keras.optimizers import Adam"
   ]
  },
  {
   "cell_type": "code",
   "execution_count": 18,
   "metadata": {},
   "outputs": [],
   "source": [
    "# Data Preparation"
   ]
  },
  {
   "cell_type": "code",
   "execution_count": 19,
   "metadata": {},
   "outputs": [],
   "source": [
    "Fs = 52\n",
    "# we are going to divide the data into windows of 2.5 secs\n",
    "time_steps = int(Fs*(2.5)) # 130\n",
    "overlap_size = int((Fs*(2.5))/2) # 65"
   ]
  },
  {
   "cell_type": "code",
   "execution_count": 20,
   "metadata": {},
   "outputs": [],
   "source": [
    "def prepare_windows(df, time_steps, overlap_size):\n",
    "\n",
    "    N_FEATURES = 3\n",
    "\n",
    "    windows = []\n",
    "    labels = []\n",
    "    for i in range(0, len(df) - time_steps, overlap_size):\n",
    "        x = df['x'].values[i: i + time_steps]\n",
    "        y = df['y'].values[i: i + time_steps]\n",
    "        z = df['z'].values[i: i + time_steps]\n",
    "        \n",
    "        # Retrieve the most often used label in this segment\n",
    "        label = stats.mode(df['label'][i: i + time_steps])[0][0]\n",
    "        windows.append([x, y, z])\n",
    "        labels.append(label)\n",
    "\n",
    "    # Bring the segments into a better shape\n",
    "    windows = np.asarray(windows).reshape(-1, time_steps, N_FEATURES)\n",
    "    labels = np.asarray(labels)\n",
    "\n",
    "    return windows, labels"
   ]
  },
  {
   "cell_type": "code",
   "execution_count": 21,
   "metadata": {},
   "outputs": [],
   "source": [
    "for i in range(1, 16):\n",
    "    csv_location = \"Processed CSV/CSV\"+str(i)+\"_processed.csv\"\n",
    "    df = pd.read_csv(csv_location, index_col=[0])\n",
    "    if(i==1):\n",
    "        X, Y = prepare_windows(df, time_steps, overlap_size)\n",
    "    else: \n",
    "        x, y = prepare_windows(df, time_steps, overlap_size)\n",
    "        X = np.concatenate((X, x), axis=0)\n",
    "        Y = np.concatenate((Y, y), axis=0)"
   ]
  },
  {
   "cell_type": "code",
   "execution_count": 22,
   "metadata": {},
   "outputs": [
    {
     "data": {
      "text/plain": [
       "((3938, 130, 3), (3938,))"
      ]
     },
     "execution_count": 22,
     "metadata": {},
     "output_type": "execute_result"
    }
   ],
   "source": [
    "X.shape, Y.shape"
   ]
  },
  {
   "cell_type": "code",
   "execution_count": 23,
   "metadata": {},
   "outputs": [],
   "source": [
    "# Splitting dataset into training and testing data"
   ]
  },
  {
   "cell_type": "code",
   "execution_count": 24,
   "metadata": {},
   "outputs": [],
   "source": [
    "X_train, X_test, Y_train, Y_test = train_test_split(X, Y, test_size = 0.3, random_state = 0, stratify = Y)"
   ]
  },
  {
   "cell_type": "code",
   "execution_count": 25,
   "metadata": {},
   "outputs": [
    {
     "data": {
      "text/plain": [
       "((2756, 130, 3), (1182, 130, 3))"
      ]
     },
     "execution_count": 25,
     "metadata": {},
     "output_type": "execute_result"
    }
   ],
   "source": [
    "X_train.shape, X_test.shape"
   ]
  },
  {
   "cell_type": "code",
   "execution_count": 26,
   "metadata": {},
   "outputs": [
    {
     "data": {
      "text/plain": [
       "((130, 3), (130, 3))"
      ]
     },
     "execution_count": 26,
     "metadata": {},
     "output_type": "execute_result"
    }
   ],
   "source": [
    "X_train[0].shape, X_test[0].shape"
   ]
  },
  {
   "cell_type": "code",
   "execution_count": 27,
   "metadata": {},
   "outputs": [],
   "source": [
    "X_train = X_train.reshape(2756, 130, 3, 1)\n",
    "X_test = X_test.reshape(1182, 130, 3, 1)"
   ]
  },
  {
   "cell_type": "code",
   "execution_count": 28,
   "metadata": {},
   "outputs": [
    {
     "data": {
      "text/plain": [
       "((2756, 130, 3, 1), (1182, 130, 3, 1))"
      ]
     },
     "execution_count": 28,
     "metadata": {},
     "output_type": "execute_result"
    }
   ],
   "source": [
    "X_train.shape, X_test.shape"
   ]
  },
  {
   "cell_type": "code",
   "execution_count": 29,
   "metadata": {},
   "outputs": [],
   "source": [
    "# Model preparation using tensorflow keras library"
   ]
  },
  {
   "cell_type": "code",
   "execution_count": 43,
   "metadata": {},
   "outputs": [],
   "source": [
    "model = Sequential()\n",
    "model.add(Conv2D(16, (2, 2), activation = 'relu', input_shape = X_train[0].shape))\n",
    "model.add(Dropout(0.1))\n",
    "\n",
    "model.add(Conv2D(32, (2, 2), activation='relu'))\n",
    "model.add(Dropout(0.2))\n",
    "\n",
    "model.add(Flatten())\n",
    "\n",
    "model.add(Dense(64, activation = 'relu'))\n",
    "model.add(Dropout(0.5))\n",
    "\n",
    "model.add(Dense(5, activation='softmax'))"
   ]
  },
  {
   "cell_type": "code",
   "execution_count": 44,
   "metadata": {},
   "outputs": [
    {
     "name": "stdout",
     "output_type": "stream",
     "text": [
      "Train on 2756 samples, validate on 1182 samples\n",
      "Epoch 1/50\n",
      "2756/2756 [==============================] - 2s 584us/sample - loss: 1.4357 - acc: 0.3683 - val_loss: 1.2515 - val_acc: 0.4721\n",
      "Epoch 2/50\n",
      "2756/2756 [==============================] - 1s 466us/sample - loss: 1.2800 - acc: 0.4735 - val_loss: 1.1811 - val_acc: 0.5203\n",
      "Epoch 3/50\n",
      "2756/2756 [==============================] - 1s 469us/sample - loss: 1.1911 - acc: 0.5250 - val_loss: 1.1536 - val_acc: 0.5558\n",
      "Epoch 4/50\n",
      "2756/2756 [==============================] - 1s 466us/sample - loss: 1.1235 - acc: 0.5414 - val_loss: 1.1151 - val_acc: 0.5888\n",
      "Epoch 5/50\n",
      "2756/2756 [==============================] - 1s 470us/sample - loss: 1.0711 - acc: 0.5929 - val_loss: 1.0923 - val_acc: 0.5948\n",
      "Epoch 6/50\n",
      "2756/2756 [==============================] - 1s 480us/sample - loss: 1.0013 - acc: 0.6187 - val_loss: 1.0512 - val_acc: 0.6108\n",
      "Epoch 7/50\n",
      "2756/2756 [==============================] - 1s 492us/sample - loss: 0.9906 - acc: 0.6241 - val_loss: 1.0843 - val_acc: 0.6091\n",
      "Epoch 8/50\n",
      "2756/2756 [==============================] - 1s 485us/sample - loss: 0.9519 - acc: 0.6375 - val_loss: 1.0238 - val_acc: 0.6168\n",
      "Epoch 9/50\n",
      "2756/2756 [==============================] - 1s 500us/sample - loss: 0.9058 - acc: 0.6607 - val_loss: 1.0285 - val_acc: 0.6337\n",
      "Epoch 10/50\n",
      "2756/2756 [==============================] - 1s 485us/sample - loss: 0.8779 - acc: 0.6720 - val_loss: 1.0312 - val_acc: 0.6328\n",
      "Epoch 11/50\n",
      "2756/2756 [==============================] - 1s 480us/sample - loss: 0.8474 - acc: 0.6691 - val_loss: 0.9986 - val_acc: 0.6565\n",
      "Epoch 12/50\n",
      "2756/2756 [==============================] - 1s 465us/sample - loss: 0.8036 - acc: 0.6967 - val_loss: 0.9828 - val_acc: 0.6387\n",
      "Epoch 13/50\n",
      "2756/2756 [==============================] - 1s 464us/sample - loss: 0.7874 - acc: 0.6941 - val_loss: 0.9881 - val_acc: 0.6481\n",
      "Epoch 14/50\n",
      "2756/2756 [==============================] - 1s 463us/sample - loss: 0.7361 - acc: 0.7134 - val_loss: 0.9850 - val_acc: 0.6599\n",
      "Epoch 15/50\n",
      "2756/2756 [==============================] - 1s 460us/sample - loss: 0.7150 - acc: 0.7177 - val_loss: 1.0069 - val_acc: 0.6574\n",
      "Epoch 16/50\n",
      "2756/2756 [==============================] - 1s 462us/sample - loss: 0.6702 - acc: 0.7427 - val_loss: 1.0009 - val_acc: 0.6692\n",
      "Epoch 17/50\n",
      "2756/2756 [==============================] - 1s 463us/sample - loss: 0.6640 - acc: 0.7406 - val_loss: 1.0145 - val_acc: 0.6709\n",
      "Epoch 18/50\n",
      "2756/2756 [==============================] - 1s 460us/sample - loss: 0.6535 - acc: 0.7580 - val_loss: 0.9885 - val_acc: 0.6743\n",
      "Epoch 19/50\n",
      "2756/2756 [==============================] - 1s 461us/sample - loss: 0.6373 - acc: 0.7642 - val_loss: 1.0495 - val_acc: 0.6692\n",
      "Epoch 20/50\n",
      "2756/2756 [==============================] - 1s 459us/sample - loss: 0.6235 - acc: 0.7591 - val_loss: 1.0613 - val_acc: 0.6785\n",
      "Epoch 21/50\n",
      "2756/2756 [==============================] - 1s 461us/sample - loss: 0.5843 - acc: 0.7743 - val_loss: 1.0244 - val_acc: 0.6616\n",
      "Epoch 22/50\n",
      "2756/2756 [==============================] - 1s 470us/sample - loss: 0.5722 - acc: 0.7747 - val_loss: 1.0000 - val_acc: 0.6667\n",
      "Epoch 23/50\n",
      "2756/2756 [==============================] - 1s 455us/sample - loss: 0.5763 - acc: 0.7790 - val_loss: 1.0644 - val_acc: 0.6633\n",
      "Epoch 24/50\n",
      "2756/2756 [==============================] - 1s 465us/sample - loss: 0.5586 - acc: 0.7801 - val_loss: 1.0710 - val_acc: 0.6777\n",
      "Epoch 25/50\n",
      "2756/2756 [==============================] - 1s 500us/sample - loss: 0.5330 - acc: 0.7892 - val_loss: 1.0763 - val_acc: 0.6827\n",
      "Epoch 26/50\n",
      "2756/2756 [==============================] - 1s 469us/sample - loss: 0.5422 - acc: 0.7874 - val_loss: 1.0611 - val_acc: 0.6929\n",
      "Epoch 27/50\n",
      "2756/2756 [==============================] - 1s 479us/sample - loss: 0.5150 - acc: 0.7917 - val_loss: 1.0845 - val_acc: 0.6853\n",
      "Epoch 28/50\n",
      "2756/2756 [==============================] - 1s 517us/sample - loss: 0.5167 - acc: 0.8055 - val_loss: 1.1127 - val_acc: 0.6980\n",
      "Epoch 29/50\n",
      "2756/2756 [==============================] - 1s 459us/sample - loss: 0.4930 - acc: 0.8113 - val_loss: 1.1116 - val_acc: 0.6760\n",
      "Epoch 30/50\n",
      "2756/2756 [==============================] - 1s 459us/sample - loss: 0.4564 - acc: 0.8171 - val_loss: 1.1945 - val_acc: 0.6836\n",
      "Epoch 31/50\n",
      "2756/2756 [==============================] - 1s 474us/sample - loss: 0.4759 - acc: 0.8124 - val_loss: 1.1501 - val_acc: 0.6777\n",
      "Epoch 32/50\n",
      "2756/2756 [==============================] - 1s 470us/sample - loss: 0.4700 - acc: 0.8182 - val_loss: 1.1558 - val_acc: 0.6819\n",
      "Epoch 33/50\n",
      "2756/2756 [==============================] - 1s 494us/sample - loss: 0.4801 - acc: 0.8095 - val_loss: 1.1567 - val_acc: 0.6726\n",
      "Epoch 34/50\n",
      "2756/2756 [==============================] - 1s 472us/sample - loss: 0.4422 - acc: 0.8244 - val_loss: 1.1420 - val_acc: 0.6895\n",
      "Epoch 35/50\n",
      "2756/2756 [==============================] - 1s 500us/sample - loss: 0.4611 - acc: 0.8204 - val_loss: 1.0813 - val_acc: 0.6946\n",
      "Epoch 36/50\n",
      "2756/2756 [==============================] - 1s 464us/sample - loss: 0.4368 - acc: 0.8324 - val_loss: 1.2136 - val_acc: 0.6827\n",
      "Epoch 37/50\n",
      "2756/2756 [==============================] - 1s 483us/sample - loss: 0.4355 - acc: 0.8316 - val_loss: 1.2126 - val_acc: 0.6929\n",
      "Epoch 38/50\n",
      "2756/2756 [==============================] - 1s 523us/sample - loss: 0.4062 - acc: 0.8382 - val_loss: 1.2518 - val_acc: 0.6988\n",
      "Epoch 39/50\n",
      "2756/2756 [==============================] - 1s 472us/sample - loss: 0.4318 - acc: 0.8280 - val_loss: 1.2463 - val_acc: 0.6870\n",
      "Epoch 40/50\n",
      "2756/2756 [==============================] - 1s 440us/sample - loss: 0.4186 - acc: 0.8302 - val_loss: 1.2775 - val_acc: 0.6794\n",
      "Epoch 41/50\n",
      "2756/2756 [==============================] - 1s 449us/sample - loss: 0.4166 - acc: 0.8403 - val_loss: 1.1350 - val_acc: 0.6912\n",
      "Epoch 42/50\n",
      "2756/2756 [==============================] - 1s 471us/sample - loss: 0.4329 - acc: 0.8295 - val_loss: 1.2150 - val_acc: 0.6870\n",
      "Epoch 43/50\n",
      "2756/2756 [==============================] - 1s 540us/sample - loss: 0.4191 - acc: 0.8400 - val_loss: 1.2824 - val_acc: 0.6912\n",
      "Epoch 44/50\n",
      "2756/2756 [==============================] - 2s 563us/sample - loss: 0.3974 - acc: 0.8364 - val_loss: 1.2299 - val_acc: 0.6861\n",
      "Epoch 45/50\n",
      "2756/2756 [==============================] - 1s 513us/sample - loss: 0.3880 - acc: 0.8414 - val_loss: 1.2033 - val_acc: 0.6870\n",
      "Epoch 46/50\n",
      "2756/2756 [==============================] - 2s 555us/sample - loss: 0.3939 - acc: 0.8389 - val_loss: 1.2770 - val_acc: 0.6929\n",
      "Epoch 47/50\n",
      "2756/2756 [==============================] - 2s 733us/sample - loss: 0.3770 - acc: 0.8469 - val_loss: 1.2889 - val_acc: 0.6878\n",
      "Epoch 48/50\n",
      "2756/2756 [==============================] - 2s 588us/sample - loss: 0.3527 - acc: 0.8643 - val_loss: 1.3348 - val_acc: 0.6980\n",
      "Epoch 49/50\n",
      "2756/2756 [==============================] - 1s 533us/sample - loss: 0.3636 - acc: 0.8509 - val_loss: 1.3322 - val_acc: 0.7005\n",
      "Epoch 50/50\n",
      "2756/2756 [==============================] - 2s 593us/sample - loss: 0.3742 - acc: 0.8523 - val_loss: 1.4218 - val_acc: 0.6963\n"
     ]
    }
   ],
   "source": [
    "model.compile(optimizer=Adam(learning_rate = 0.001), loss = 'sparse_categorical_crossentropy', metrics = ['accuracy'])\n",
    "history = model.fit(X_train, Y_train, epochs = 50, validation_data= (X_test, Y_test), verbose=1)"
   ]
  },
  {
   "cell_type": "code",
   "execution_count": 45,
   "metadata": {},
   "outputs": [],
   "source": [
    "def plot_learningCurve(history, epochs):\n",
    "  # Plot training & validation accuracy values\n",
    "  epoch_range = range(1, epochs+1)\n",
    "  plt.plot(epoch_range, history.history['acc'])\n",
    "  plt.plot(epoch_range, history.history['val_acc'])\n",
    "  plt.title('Model accuracy')\n",
    "  plt.ylabel('Accuracy')\n",
    "  plt.xlabel('Epoch')\n",
    "  plt.legend(['Train', 'Val'], loc='upper left')\n",
    "  plt.show()\n",
    "\n",
    "  # Plot training & validation loss values\n",
    "  plt.plot(epoch_range, history.history['loss'])\n",
    "  plt.plot(epoch_range, history.history['val_loss'])\n",
    "  plt.title('Model loss')\n",
    "  plt.ylabel('Loss')\n",
    "  plt.xlabel('Epoch')\n",
    "  plt.legend(['Train', 'Val'], loc='upper left')\n",
    "  plt.show()"
   ]
  },
  {
   "cell_type": "code",
   "execution_count": 47,
   "metadata": {},
   "outputs": [
    {
     "data": {
      "image/png": "[encoded data removed]",
      "text/plain": [
       "<Figure size 432x288 with 1 Axes>"
      ]
     },
     "metadata": {
      "needs_background": "light"
     },
     "output_type": "display_data"
    },
    {
     "data": {
      "image/png": "[encoded data removed]",
      "text/plain": [
       "<Figure size 432x288 with 1 Axes>"
      ]
     },
     "metadata": {
      "needs_background": "light"
     },
     "output_type": "display_data"
    }
   ],
   "source": [
    "plot_learningCurve(history, 50)"
   ]
  },
  {
   "cell_type": "code",
   "execution_count": null,
   "metadata": {},
   "outputs": [],
   "source": [
    "# model.save_weights('model.h5')"
   ]
  }
 ],
 "metadata": {
  "kernelspec": {
   "display_name": "Python 3",
   "language": "python",
   "name": "python3"
  },
  "language_info": {
   "codemirror_mode": {
    "name": "ipython",
    "version": 3
   },
   "file_extension": ".py",
   "mimetype": "text/x-python",
   "name": "python",
   "nbconvert_exporter": "python",
   "pygments_lexer": "ipython3",
   "version": "3.7.3"
  }
 },
 "nbformat": 4,
 "nbformat_minor": 2
}
